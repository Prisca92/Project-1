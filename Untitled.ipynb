{
 "cells": [
  {
   "cell_type": "code",
   "execution_count": 7,
   "id": "91ce1ede",
   "metadata": {},
   "outputs": [],
   "source": [
    "#Import dependencies\n",
    "import pandas as pd\n",
    "import numpy as np\n",
    "import matplotlib.pyplot as plt\n",
    "import scipy.stats as st\n",
    "import seaborn as sns"
   ]
  },
  {
   "cell_type": "code",
   "execution_count": 9,
   "id": "1940aa8d",
   "metadata": {},
   "outputs": [
    {
     "data": {
      "text/html": [
       "<div>\n",
       "<style scoped>\n",
       "    .dataframe tbody tr th:only-of-type {\n",
       "        vertical-align: middle;\n",
       "    }\n",
       "\n",
       "    .dataframe tbody tr th {\n",
       "        vertical-align: top;\n",
       "    }\n",
       "\n",
       "    .dataframe thead th {\n",
       "        text-align: right;\n",
       "    }\n",
       "</style>\n",
       "<table border=\"1\" class=\"dataframe\">\n",
       "  <thead>\n",
       "    <tr style=\"text-align: right;\">\n",
       "      <th></th>\n",
       "      <th>Unnamed: 0</th>\n",
       "      <th>Year_x</th>\n",
       "      <th>Period</th>\n",
       "      <th>Avg hrs per day sleeping</th>\n",
       "      <th>Standard Error</th>\n",
       "      <th>Type of Days</th>\n",
       "      <th>Age Group_x</th>\n",
       "      <th>Activity</th>\n",
       "      <th>Gender_x</th>\n",
       "      <th>Unique ID</th>\n",
       "      <th>Age Group_y</th>\n",
       "      <th>Year_y</th>\n",
       "      <th>Gender_y</th>\n",
       "      <th>Number with income (thousands)</th>\n",
       "      <th>Mean income</th>\n",
       "      <th>2022\\ndollars</th>\n",
       "    </tr>\n",
       "  </thead>\n",
       "  <tbody>\n",
       "    <tr>\n",
       "      <th>0</th>\n",
       "      <td>0</td>\n",
       "      <td>2003</td>\n",
       "      <td>Annual</td>\n",
       "      <td>8.48</td>\n",
       "      <td>0.031</td>\n",
       "      <td>All days</td>\n",
       "      <td>15 years and over</td>\n",
       "      <td>Sleeping</td>\n",
       "      <td>Male</td>\n",
       "      <td>2003-15 years and over-Male</td>\n",
       "      <td>15 years and over</td>\n",
       "      <td>2003</td>\n",
       "      <td>Male</td>\n",
       "      <td>100800</td>\n",
       "      <td>41480</td>\n",
       "      <td>63070</td>\n",
       "    </tr>\n",
       "    <tr>\n",
       "      <th>1</th>\n",
       "      <td>1</td>\n",
       "      <td>2004</td>\n",
       "      <td>Annual</td>\n",
       "      <td>8.48</td>\n",
       "      <td>0.040</td>\n",
       "      <td>All days</td>\n",
       "      <td>15 years and over</td>\n",
       "      <td>Sleeping</td>\n",
       "      <td>Male</td>\n",
       "      <td>2004-15 years and over-Male</td>\n",
       "      <td>15 years and over</td>\n",
       "      <td>2004</td>\n",
       "      <td>Male</td>\n",
       "      <td>101800</td>\n",
       "      <td>42830</td>\n",
       "      <td>63530</td>\n",
       "    </tr>\n",
       "    <tr>\n",
       "      <th>2</th>\n",
       "      <td>2</td>\n",
       "      <td>2005</td>\n",
       "      <td>Annual</td>\n",
       "      <td>8.53</td>\n",
       "      <td>0.034</td>\n",
       "      <td>All days</td>\n",
       "      <td>15 years and over</td>\n",
       "      <td>Sleeping</td>\n",
       "      <td>Male</td>\n",
       "      <td>2005-15 years and over-Male</td>\n",
       "      <td>15 years and over</td>\n",
       "      <td>2005</td>\n",
       "      <td>Male</td>\n",
       "      <td>103000</td>\n",
       "      <td>44850</td>\n",
       "      <td>64650</td>\n",
       "    </tr>\n",
       "    <tr>\n",
       "      <th>3</th>\n",
       "      <td>3</td>\n",
       "      <td>2006</td>\n",
       "      <td>Annual</td>\n",
       "      <td>8.56</td>\n",
       "      <td>0.035</td>\n",
       "      <td>All days</td>\n",
       "      <td>15 years and over</td>\n",
       "      <td>Sleeping</td>\n",
       "      <td>Male</td>\n",
       "      <td>2006-15 years and over-Male</td>\n",
       "      <td>15 years and over</td>\n",
       "      <td>2006</td>\n",
       "      <td>Male</td>\n",
       "      <td>103900</td>\n",
       "      <td>46680</td>\n",
       "      <td>65390</td>\n",
       "    </tr>\n",
       "    <tr>\n",
       "      <th>4</th>\n",
       "      <td>4</td>\n",
       "      <td>2007</td>\n",
       "      <td>Annual</td>\n",
       "      <td>8.52</td>\n",
       "      <td>0.038</td>\n",
       "      <td>All days</td>\n",
       "      <td>15 years and over</td>\n",
       "      <td>Sleeping</td>\n",
       "      <td>Male</td>\n",
       "      <td>2007-15 years and over-Male</td>\n",
       "      <td>15 years and over</td>\n",
       "      <td>2007</td>\n",
       "      <td>Male</td>\n",
       "      <td>104800</td>\n",
       "      <td>47140</td>\n",
       "      <td>64380</td>\n",
       "    </tr>\n",
       "  </tbody>\n",
       "</table>\n",
       "</div>"
      ],
      "text/plain": [
       "   Unnamed: 0  Year_x  Period  Avg hrs per day sleeping  Standard Error  \\\n",
       "0           0    2003  Annual                      8.48           0.031   \n",
       "1           1    2004  Annual                      8.48           0.040   \n",
       "2           2    2005  Annual                      8.53           0.034   \n",
       "3           3    2006  Annual                      8.56           0.035   \n",
       "4           4    2007  Annual                      8.52           0.038   \n",
       "\n",
       "  Type of Days        Age Group_x  Activity Gender_x  \\\n",
       "0     All days  15 years and over  Sleeping     Male   \n",
       "1     All days  15 years and over  Sleeping     Male   \n",
       "2     All days  15 years and over  Sleeping     Male   \n",
       "3     All days  15 years and over  Sleeping     Male   \n",
       "4     All days  15 years and over  Sleeping     Male   \n",
       "\n",
       "                     Unique ID        Age Group_y  Year_y Gender_y  \\\n",
       "0  2003-15 years and over-Male  15 years and over    2003     Male   \n",
       "1  2004-15 years and over-Male  15 years and over    2004     Male   \n",
       "2  2005-15 years and over-Male  15 years and over    2005     Male   \n",
       "3  2006-15 years and over-Male  15 years and over    2006     Male   \n",
       "4  2007-15 years and over-Male  15 years and over    2007     Male   \n",
       "\n",
       "   Number with income (thousands)  Mean income  2022\\ndollars  \n",
       "0                          100800        41480          63070  \n",
       "1                          101800        42830          63530  \n",
       "2                          103000        44850          64650  \n",
       "3                          103900        46680          65390  \n",
       "4                          104800        47140          64380  "
      ]
     },
     "execution_count": 9,
     "metadata": {},
     "output_type": "execute_result"
    }
   ],
   "source": [
    "#read merged data \n",
    "\n",
    "new_data= pd.read_csv('/Users/ashleysmacbook/Desktop/Project-1/Resources/all_data_v3.csv')\n",
    "new_data_df=pd.DataFrame(new_data)\n",
    "new_data.head()"
   ]
  },
  {
   "cell_type": "code",
   "execution_count": 10,
   "id": "89a12714",
   "metadata": {},
   "outputs": [],
   "source": [
    "sleep= new_data_df['Avg hrs per day sleeping']\n",
    "income= new_data_df['Mean income']"
   ]
  },
  {
   "cell_type": "code",
   "execution_count": 16,
   "id": "47ab5e42",
   "metadata": {},
   "outputs": [
    {
     "name": "stdout",
     "output_type": "stream",
     "text": [
      "The average amount of sleep is 8.735037037037037\n",
      "The average income across all age groups is 37415.11111111111\n"
     ]
    }
   ],
   "source": [
    "#calculate measures of central tendencies\n",
    "mean_sleep= np.mean(sleep)\n",
    "mean_income= np.mean(income)\n",
    "\n",
    "print(f'The average amount of sleep is {mean_sleep}')\n",
    "print(f'The average income across all age groups is {mean_income}')\n"
   ]
  },
  {
   "cell_type": "code",
   "execution_count": 21,
   "id": "b62e8792",
   "metadata": {},
   "outputs": [
    {
     "data": {
      "image/png": "[encoded data removed]",
      "text/plain": [
       "<Figure size 640x480 with 1 Axes>"
      ]
     },
     "metadata": {},
     "output_type": "display_data"
    },
    {
     "name": "stdout",
     "output_type": "stream",
     "text": [
      "NormaltestResult(statistic=0.7457974647254835, pvalue=0.6887349758762443)\n"
     ]
    }
   ],
   "source": [
    "plt.hist(sleep)\n",
    "plt.xlabel('Average Amount of Sleep')\n",
    "plt.ylabel('')\n",
    "plt.show()\n",
    "print(st.normaltest(sleep.sample(50)))"
   ]
  },
  {
   "cell_type": "code",
   "execution_count": 20,
   "id": "a6604228",
   "metadata": {},
   "outputs": [
    {
     "name": "stdout",
     "output_type": "stream",
     "text": [
      "NormaltestResult(statistic=4.9009904334532095, pvalue=0.08625086305149335)\n"
     ]
    }
   ],
   "source": [
    "print(st.normaltest(sleep.sample(269)))"
   ]
  },
  {
   "cell_type": "code",
   "execution_count": 23,
   "id": "d7e313ff",
   "metadata": {},
   "outputs": [
    {
     "name": "stdout",
     "output_type": "stream",
     "text": [
      "0.11607018381344314\n",
      "0.3406907451244356\n"
     ]
    }
   ],
   "source": [
    "var_numpy = np.var(sleep,ddof = 0)\n",
    "print(var_numpy)\n",
    "\n",
    "sd_numpy = np.std(sleep,ddof = 0)\n",
    "print(sd_numpy)"
   ]
  },
  {
   "cell_type": "code",
   "execution_count": 24,
   "id": "930628fb",
   "metadata": {},
   "outputs": [
    {
     "data": {
      "image/png": "[encoded data removed]",
      "text/plain": [
       "<Figure size 640x480 with 1 Axes>"
      ]
     },
     "metadata": {},
     "output_type": "display_data"
    },
    {
     "name": "stdout",
     "output_type": "stream",
     "text": [
      "NormaltestResult(statistic=3.2705809471696563, pvalue=0.194895751008768)\n"
     ]
    }
   ],
   "source": [
    "plt.hist(income)\n",
    "plt.xlabel('Average Income')\n",
    "plt.ylabel('')\n",
    "plt.show()\n",
    "print(st.normaltest(income.sample(50)))"
   ]
  },
  {
   "cell_type": "code",
   "execution_count": null,
   "id": "3ed1ad96",
   "metadata": {},
   "outputs": [],
   "source": [
    "sns.lmpot(x= 'Avg hrs per day sleeping', y = \"Mean income\", hue= 'Year_x'. data= df_)"
   ]
  }
 ],
 "metadata": {
  "kernelspec": {
   "display_name": "Python 3 (ipykernel)",
   "language": "python",
   "name": "python3"
  },
  "language_info": {
   "codemirror_mode": {
    "name": "ipython",
    "version": 3
   },
   "file_extension": ".py",
   "mimetype": "text/x-python",
   "name": "python",
   "nbconvert_exporter": "python",
   "pygments_lexer": "ipython3",
   "version": "3.11.4"
  }
 },
 "nbformat": 4,
 "nbformat_minor": 5
}
